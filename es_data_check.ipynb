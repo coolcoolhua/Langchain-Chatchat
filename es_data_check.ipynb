{
 "cells": [
  {
   "cell_type": "code",
   "execution_count": 1,
   "metadata": {},
   "outputs": [
    {
     "name": "stdout",
     "output_type": "stream",
     "text": [
      "{'acknowledged': True}\n",
      "{'acknowledged': True, 'shards_acknowledged': True, 'index': 'shijie'}\n"
     ]
    },
    {
     "data": {
      "text/plain": [
       "{'acknowledged': True, 'shards_acknowledged': True, 'index': 'shijie'}"
      ]
     },
     "execution_count": 1,
     "metadata": {},
     "output_type": "execute_result"
    }
   ],
   "source": [
    "from elasticsearch import Elasticsearch\n",
    "\n",
    "es = Elasticsearch(\n",
    "        [\"http://localhost:9200\"],\n",
    "        sniff_on_start=False,            # 连接前测试\n",
    "        sniff_on_connection_fail=True,  # 节点无响应时刷新节点\n",
    "        sniffer_timeout=60              # 设置超时时间\n",
    "    )\n",
    "\n",
    "\n",
    "# 找到索引shijie下的所有内容\n",
    "def es_search_all(index):\n",
    "    res = es.search(index=index, body={\"query\": {\"match_all\": {}}})\n",
    "    print(res)\n",
    "    return res\n",
    "\n",
    "# 删除某个索引\n",
    "def es_delete_index(index):\n",
    "    res = es.indices.delete(index=index)\n",
    "    print(res)\n",
    "    return res\n",
    "\n",
    "# 创建某个索引\n",
    "def es_create_index(index):\n",
    "    res = es.indices.create(index=index)\n",
    "    print(res)\n",
    "    return res\n",
    "\n",
    "\n",
    "# 查询是否存在某条数据的id字段\n",
    "def es_search_id(index, id):\n",
    "    res = es.search(index=index, body={\"query\": {\"match\": {\"id\": id}}})\n",
    "    print(res)\n",
    "    return res\n",
    "\n",
    "\n",
    "# 进行某个查询\n",
    "def es_search_test():\n",
    "    # 查询index为shijie下,relatedMajors.name.keyword字段为计算机科学与技术,且topicTags.name.keyword字段为专业重点扫盲的文章\n",
    "    query = {\n",
    "        \"size\": 3,  # 指定返回的文档数量\n",
    "        \"query\": {\n",
    "            \"bool\": {\n",
    "                \"must\": [\n",
    "                    {\n",
    "                        \"match\": {\n",
    "                            \"relatedMajors.name.keyword\": \"计算机科学与技术\"\n",
    "                        }\n",
    "                    },\n",
    "                    {\n",
    "                        \"match\": {\n",
    "                            \"topicTags.name.keyword\": \"专业重点扫盲\"\n",
    "                        }\n",
    "                    }\n",
    "                ]\n",
    "            }\n",
    "        }\n",
    "    }\n",
    "    \n",
    "    res = es.search(index=\"shijie\", body=query)\n",
    "    print(res[\"hits\"][\"hits\"])\n",
    "\n",
    "\n",
    "# es_search_all(\"shijie\")\n",
    "es_delete_index(\"shijie\")\n",
    "es_create_index(\"shijie\")\n",
    "# es_search_id(\"shijie\", \"234\")\n",
    "# es_search_test()"
   ]
  },
  {
   "cell_type": "code",
   "execution_count": null,
   "metadata": {},
   "outputs": [],
   "source": []
  }
 ],
 "metadata": {
  "kernelspec": {
   "display_name": "Python 3 (ipykernel)",
   "language": "python",
   "name": "python3"
  },
  "language_info": {
   "codemirror_mode": {
    "name": "ipython",
    "version": 3
   },
   "file_extension": ".py",
   "mimetype": "text/x-python",
   "name": "python",
   "nbconvert_exporter": "python",
   "pygments_lexer": "ipython3",
   "version": "3.11.5"
  }
 },
 "nbformat": 4,
 "nbformat_minor": 2
}
